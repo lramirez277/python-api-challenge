{
 "cells": [
  {
   "cell_type": "markdown",
   "metadata": {},
   "source": [
    "# VacationPy\n",
    "----\n",
    "\n",
    "#### Note\n",
    "* Instructions have been included for each segment. You do not have to follow them exactly, but they are included to help you think through the steps."
   ]
  },
  {
   "cell_type": "code",
   "execution_count": 19,
   "metadata": {},
   "outputs": [],
   "source": [
    "# Dependencies and Setup\n",
    "import matplotlib.pyplot as plt\n",
    "import pandas as pd\n",
    "import numpy as np\n",
    "import requests\n",
    "import gmaps\n",
    "import os\n",
    "\n",
    "# Import API key\n",
    "from api_keys import g_key\n"
   ]
  },
  {
   "cell_type": "markdown",
   "metadata": {},
   "source": [
    "### Store Part I results into DataFrame\n",
    "* Load the csv exported in Part I to a DataFrame"
   ]
  },
  {
   "cell_type": "code",
   "execution_count": 20,
   "metadata": {},
   "outputs": [
    {
     "data": {
      "text/html": [
       "<div>\n",
       "<style scoped>\n",
       "    .dataframe tbody tr th:only-of-type {\n",
       "        vertical-align: middle;\n",
       "    }\n",
       "\n",
       "    .dataframe tbody tr th {\n",
       "        vertical-align: top;\n",
       "    }\n",
       "\n",
       "    .dataframe thead th {\n",
       "        text-align: right;\n",
       "    }\n",
       "</style>\n",
       "<table border=\"1\" class=\"dataframe\">\n",
       "  <thead>\n",
       "    <tr style=\"text-align: right;\">\n",
       "      <th></th>\n",
       "      <th>City</th>\n",
       "      <th>Cloudiness</th>\n",
       "      <th>Humidity</th>\n",
       "      <th>Lat</th>\n",
       "      <th>Lng</th>\n",
       "      <th>Temp</th>\n",
       "      <th>Wind Speed</th>\n",
       "    </tr>\n",
       "  </thead>\n",
       "  <tbody>\n",
       "    <tr>\n",
       "      <td>0</td>\n",
       "      <td>punta arenas</td>\n",
       "      <td>broken clouds</td>\n",
       "      <td>83</td>\n",
       "      <td>-53.15</td>\n",
       "      <td>-70.92</td>\n",
       "      <td>33.40</td>\n",
       "      <td>6.93</td>\n",
       "    </tr>\n",
       "    <tr>\n",
       "      <td>1</td>\n",
       "      <td>hualmay</td>\n",
       "      <td>few clouds</td>\n",
       "      <td>70</td>\n",
       "      <td>-11.10</td>\n",
       "      <td>-77.61</td>\n",
       "      <td>66.97</td>\n",
       "      <td>10.56</td>\n",
       "    </tr>\n",
       "    <tr>\n",
       "      <td>2</td>\n",
       "      <td>baran</td>\n",
       "      <td>broken clouds</td>\n",
       "      <td>72</td>\n",
       "      <td>25.10</td>\n",
       "      <td>76.52</td>\n",
       "      <td>83.19</td>\n",
       "      <td>8.52</td>\n",
       "    </tr>\n",
       "    <tr>\n",
       "      <td>3</td>\n",
       "      <td>albany</td>\n",
       "      <td>clear sky</td>\n",
       "      <td>37</td>\n",
       "      <td>42.60</td>\n",
       "      <td>-73.97</td>\n",
       "      <td>87.96</td>\n",
       "      <td>8.99</td>\n",
       "    </tr>\n",
       "    <tr>\n",
       "      <td>4</td>\n",
       "      <td>meulaboh</td>\n",
       "      <td>overcast clouds</td>\n",
       "      <td>83</td>\n",
       "      <td>4.14</td>\n",
       "      <td>96.13</td>\n",
       "      <td>77.05</td>\n",
       "      <td>2.71</td>\n",
       "    </tr>\n",
       "  </tbody>\n",
       "</table>\n",
       "</div>"
      ],
      "text/plain": [
       "           City       Cloudiness  Humidity    Lat    Lng   Temp  Wind Speed\n",
       "0  punta arenas    broken clouds        83 -53.15 -70.92  33.40        6.93\n",
       "1       hualmay       few clouds        70 -11.10 -77.61  66.97       10.56\n",
       "2         baran    broken clouds        72  25.10  76.52  83.19        8.52\n",
       "3        albany        clear sky        37  42.60 -73.97  87.96        8.99\n",
       "4      meulaboh  overcast clouds        83   4.14  96.13  77.05        2.71"
      ]
     },
     "execution_count": 20,
     "metadata": {},
     "output_type": "execute_result"
    }
   ],
   "source": [
    "weather_data_df = pd.read_csv(\"weather_data_results.csv\")\n",
    "weather_data_df.head()"
   ]
  },
  {
   "cell_type": "markdown",
   "metadata": {},
   "source": [
    "### Humidity Heatmap\n",
    "* Configure gmaps.\n",
    "* Use the Lat and Lng as locations and Humidity as the weight.\n",
    "* Add Heatmap layer to map."
   ]
  },
  {
   "cell_type": "code",
   "execution_count": 24,
   "metadata": {},
   "outputs": [
    {
     "data": {
      "application/vnd.jupyter.widget-view+json": {
       "model_id": "ebfaf91f531d458ba4f0c308b42df39e",
       "version_major": 2,
       "version_minor": 0
      },
      "text/plain": [
       "Figure(layout=FigureLayout(height='420px'))"
      ]
     },
     "metadata": {},
     "output_type": "display_data"
    }
   ],
   "source": [
    "gmaps.configure(api_key=g_key)\n",
    "locations = weather_data_df[[\"Lat\", \"Lng\"]].astype(float)\n",
    "fig = gmaps.figure()\n",
    "humidity = weather_data_df[\"Humidity\"].astype(float)\n",
    "heat_layer = gmaps.heatmap_layer(locations, weights=humidity, \n",
    "                                 dissipating=False, max_intensity=100,\n",
    "                                 point_radius = 1)\n",
    "\n",
    "fig.add_layer(heat_layer)\n",
    "\n",
    "fig\n"
   ]
  },
  {
   "cell_type": "markdown",
   "metadata": {},
   "source": [
    "### Create new DataFrame fitting weather criteria\n",
    "* Narrow down the cities to fit weather conditions.\n",
    "* Drop any rows will null values."
   ]
  },
  {
   "cell_type": "code",
   "execution_count": 12,
   "metadata": {},
   "outputs": [
    {
     "name": "stdout",
     "output_type": "stream",
     "text": [
      "[City             chaman\n",
      "Cloudiness    clear sky\n",
      "Humidity             31\n",
      "Lat               30.92\n",
      "Lng               66.45\n",
      "Temp              76.14\n",
      "Wind Speed         9.44\n",
      "Name: 18, dtype: object, City          xiongzhou\n",
      "Cloudiness    clear sky\n",
      "Humidity             79\n",
      "Lat               25.12\n",
      "Lng               114.3\n",
      "Temp               77.9\n",
      "Wind Speed         2.53\n",
      "Name: 93, dtype: object, City          caravelas\n",
      "Cloudiness    clear sky\n",
      "Humidity             79\n",
      "Lat              -17.71\n",
      "Lng              -39.25\n",
      "Temp              75.24\n",
      "Wind Speed         5.39\n",
      "Name: 114, dtype: object, City          cap malheureux\n",
      "Cloudiness         clear sky\n",
      "Humidity                  79\n",
      "Lat                   -19.98\n",
      "Lng                    57.61\n",
      "Temp                   71.01\n",
      "Wind Speed              5.01\n",
      "Name: 115, dtype: object, City              acari\n",
      "Cloudiness    clear sky\n",
      "Humidity             38\n",
      "Lat              -15.43\n",
      "Lng              -74.62\n",
      "Temp              75.34\n",
      "Wind Speed          7.9\n",
      "Name: 166, dtype: object, City            labuhan\n",
      "Cloudiness    clear sky\n",
      "Humidity             86\n",
      "Lat               -6.88\n",
      "Lng              112.21\n",
      "Temp              76.21\n",
      "Wind Speed         7.27\n",
      "Name: 189, dtype: object, City           coruripe\n",
      "Cloudiness    clear sky\n",
      "Humidity             80\n",
      "Lat              -10.13\n",
      "Lng              -36.18\n",
      "Temp              76.59\n",
      "Wind Speed         6.46\n",
      "Name: 222, dtype: object, City          sao jose da coroa grande\n",
      "Cloudiness                   clear sky\n",
      "Humidity                            77\n",
      "Lat                               -8.9\n",
      "Lng                             -35.15\n",
      "Temp                             76.96\n",
      "Wind Speed                        6.15\n",
      "Name: 236, dtype: object, City          arraial do cabo\n",
      "Cloudiness          clear sky\n",
      "Humidity                   65\n",
      "Lat                    -22.97\n",
      "Lng                    -42.03\n",
      "Temp                     78.8\n",
      "Wind Speed               6.93\n",
      "Name: 257, dtype: object, City              araxa\n",
      "Cloudiness    clear sky\n",
      "Humidity             43\n",
      "Lat              -19.59\n",
      "Lng              -46.94\n",
      "Temp              75.54\n",
      "Wind Speed          1.9\n",
      "Name: 291, dtype: object, City          veshkayma\n",
      "Cloudiness    clear sky\n",
      "Humidity             87\n",
      "Lat               54.05\n",
      "Lng               47.13\n",
      "Temp              70.45\n",
      "Wind Speed         4.32\n",
      "Name: 319, dtype: object, City               hami\n",
      "Cloudiness    clear sky\n",
      "Humidity             28\n",
      "Lat                42.8\n",
      "Lng               93.45\n",
      "Temp              73.42\n",
      "Wind Speed         7.92\n",
      "Name: 392, dtype: object, City          neyshabur\n",
      "Cloudiness    clear sky\n",
      "Humidity             23\n",
      "Lat               36.21\n",
      "Lng                58.8\n",
      "Temp              76.87\n",
      "Wind Speed         5.57\n",
      "Name: 442, dtype: object, City           marathon\n",
      "Cloudiness    clear sky\n",
      "Humidity             47\n",
      "Lat                44.9\n",
      "Lng              -89.77\n",
      "Temp              78.66\n",
      "Wind Speed          4.7\n",
      "Name: 451, dtype: object, City              gamba\n",
      "Cloudiness    clear sky\n",
      "Humidity             91\n",
      "Lat               -2.65\n",
      "Lng                  10\n",
      "Temp              70.39\n",
      "Wind Speed         5.95\n",
      "Name: 452, dtype: object, City            changji\n",
      "Cloudiness    clear sky\n",
      "Humidity             40\n",
      "Lat               44.02\n",
      "Lng               87.32\n",
      "Temp               73.4\n",
      "Wind Speed         8.95\n",
      "Name: 455, dtype: object, City           yerakion\n",
      "Cloudiness    clear sky\n",
      "Humidity             83\n",
      "Lat                  37\n",
      "Lng                22.7\n",
      "Temp              79.38\n",
      "Wind Speed         4.63\n",
      "Name: 552, dtype: object]\n"
     ]
    }
   ],
   "source": [
    "vacation_spots = []\n",
    "\n",
    "for index, row  in weather_data_df.iterrows():\n",
    "    \n",
    "    if row.loc[\"Temp\"]  >= 70 and row.loc[\"Temp\"] <= 80:\n",
    "        if row.loc[\"Wind Speed\"] <= 10:\n",
    "            if row.loc[\"Cloudiness\"] == \"clear sky\":\n",
    "                vacation_spots.append(row)\n",
    "        \n",
    "print(vacation_spots)"
   ]
  },
  {
   "cell_type": "markdown",
   "metadata": {},
   "source": [
    "### Hotel Map\n",
    "* Store into variable named `hotel_df`.\n",
    "* Add a \"Hotel Name\" column to the DataFrame.\n",
    "* Set parameters to search for hotels with 5000 meters.\n",
    "* Hit the Google Places API for each city's coordinates.\n",
    "* Store the first Hotel result into the DataFrame.\n",
    "* Plot markers on top of the heatmap."
   ]
  },
  {
   "cell_type": "code",
   "execution_count": 29,
   "metadata": {},
   "outputs": [
    {
     "name": "stdout",
     "output_type": "stream",
     "text": [
      "{'error_message': 'The provided API key is invalid.', 'html_attributions': [], 'results': [], 'status': 'REQUEST_DENIED'}\n",
      "{'error_message': 'The provided API key is invalid.', 'html_attributions': [], 'results': [], 'status': 'REQUEST_DENIED'}\n",
      "{'error_message': 'The provided API key is invalid.', 'html_attributions': [], 'results': [], 'status': 'REQUEST_DENIED'}\n",
      "{'error_message': 'The provided API key is invalid.', 'html_attributions': [], 'results': [], 'status': 'REQUEST_DENIED'}\n",
      "{'error_message': 'The provided API key is invalid.', 'html_attributions': [], 'results': [], 'status': 'REQUEST_DENIED'}\n",
      "{'error_message': 'The provided API key is invalid.', 'html_attributions': [], 'results': [], 'status': 'REQUEST_DENIED'}\n",
      "{'error_message': 'The provided API key is invalid.', 'html_attributions': [], 'results': [], 'status': 'REQUEST_DENIED'}\n",
      "{'error_message': 'The provided API key is invalid.', 'html_attributions': [], 'results': [], 'status': 'REQUEST_DENIED'}\n",
      "{'error_message': 'The provided API key is invalid.', 'html_attributions': [], 'results': [], 'status': 'REQUEST_DENIED'}\n",
      "{'error_message': 'The provided API key is invalid.', 'html_attributions': [], 'results': [], 'status': 'REQUEST_DENIED'}\n",
      "{'error_message': 'The provided API key is invalid.', 'html_attributions': [], 'results': [], 'status': 'REQUEST_DENIED'}\n",
      "{'error_message': 'The provided API key is invalid.', 'html_attributions': [], 'results': [], 'status': 'REQUEST_DENIED'}\n",
      "{'error_message': 'The provided API key is invalid.', 'html_attributions': [], 'results': [], 'status': 'REQUEST_DENIED'}\n",
      "{'error_message': 'The provided API key is invalid.', 'html_attributions': [], 'results': [], 'status': 'REQUEST_DENIED'}\n",
      "{'error_message': 'The provided API key is invalid.', 'html_attributions': [], 'results': [], 'status': 'REQUEST_DENIED'}\n",
      "{'error_message': 'The provided API key is invalid.', 'html_attributions': [], 'results': [], 'status': 'REQUEST_DENIED'}\n",
      "{'error_message': 'The provided API key is invalid.', 'html_attributions': [], 'results': [], 'status': 'REQUEST_DENIED'}\n"
     ]
    }
   ],
   "source": [
    "hotel_details = {}\n",
    "hotel_map_details = []\n",
    "for spot in vacation_spots:\n",
    "\n",
    "    query_url = \"https://maps.googleapis.com/maps/api/place/nearbysearch/json?location=\" + str(spot.loc[\"Lat\"]) + \",\" + str(spot.loc[\"Lng\"]) + \"&radius=5000&type=hotel&key=\" + g_key\n",
    "    \n",
    "    hotels = requests.get(query_url)\n",
    "    hotels_json = hotels.json()\n",
    "    include = True\n",
    "    print(hotels_json)\n",
    "    \n"
   ]
  },
  {
   "cell_type": "code",
   "execution_count": null,
   "metadata": {},
   "outputs": [],
   "source": []
  },
  {
   "cell_type": "code",
   "execution_count": null,
   "metadata": {},
   "outputs": [],
   "source": [
    "\n"
   ]
  },
  {
   "cell_type": "code",
   "execution_count": null,
   "metadata": {},
   "outputs": [],
   "source": [
    "# NOTE: Do not change any of the code in this cell\n",
    "\n",
    "# Using the template add the hotel marks to the heatmap\n",
    "info_box_template = \"\"\"\n",
    "<dl>\n",
    "<dt>Name</dt><dd>{Hotel Name}</dd>\n",
    "<dt>City</dt><dd>{City}</dd>\n",
    "<dt>Country</dt><dd>{Country}</dd>\n",
    "</dl>\n",
    "\"\"\"\n",
    "# Store the DataFrame Row\n",
    "# NOTE: be sure to update with your DataFrame name\n",
    "hotel_info = [info_box_template.format(**row) for index, row in narrowed_city_df.iterrows()]\n",
    "locations = hotel_df[[\"Lat\", \"Lng\"]]"
   ]
  },
  {
   "cell_type": "code",
   "execution_count": null,
   "metadata": {},
   "outputs": [],
   "source": [
    "# Add marker layer ontop of heat map\n",
    "\n",
    "\n",
    "# Display Map"
   ]
  }
 ],
 "metadata": {
  "kernelspec": {
   "display_name": "Python 3",
   "language": "python",
   "name": "python3"
  },
  "language_info": {
   "codemirror_mode": {
    "name": "ipython",
    "version": 3
   },
   "file_extension": ".py",
   "mimetype": "text/x-python",
   "name": "python",
   "nbconvert_exporter": "python",
   "pygments_lexer": "ipython3",
   "version": "3.7.4"
  },
  "latex_envs": {
   "LaTeX_envs_menu_present": true,
   "autoclose": false,
   "autocomplete": true,
   "bibliofile": "biblio.bib",
   "cite_by": "apalike",
   "current_citInitial": 1,
   "eqLabelWithNumbers": true,
   "eqNumInitial": 1,
   "hotkeys": {
    "equation": "Ctrl-E",
    "itemize": "Ctrl-I"
   },
   "labels_anchors": false,
   "latex_user_defs": false,
   "report_style_numbering": false,
   "user_envs_cfg": false
  }
 },
 "nbformat": 4,
 "nbformat_minor": 2
}
